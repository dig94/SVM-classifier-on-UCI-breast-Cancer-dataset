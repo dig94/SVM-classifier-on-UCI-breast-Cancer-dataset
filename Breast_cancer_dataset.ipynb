{
 "cells": [
  {
   "cell_type": "code",
   "execution_count": 1,
   "metadata": {},
   "outputs": [],
   "source": [
    "##################################################\n",
    "## 1. Load breast cancer dataset from sklearn\n",
    "## 2. Split the data as 70:30 as train and test data\n",
    "## 3. Fit the train data into SVM model with diffferent kernels\n",
    "##    and bar plot the accuracy of different SVM model with the test data\n",
    "## 4. Fit the above training dataset into a SVM model with ploynomial kernel\n",
    "##    with varying degree and plot the accuracy wrt. degree of ploynomial kernel with the test data\n",
    "## 5. Define a custom kernel K(X,Y)=K*XY'+theta where k and theta are constants\n",
    "## 6. Use the custom kernel and report the accuracy with the given train and test dataset\n",
    "##################################################"
   ]
  },
  {
   "cell_type": "code",
   "execution_count": 1,
   "metadata": {},
   "outputs": [],
   "source": [
    "##################################################\n",
    "## Basic imports\n",
    "## You are not required to import additional module imports\n",
    "import numpy as np\n",
    "import matplotlib.pyplot as plt\n",
    "from sklearn import svm, datasets\n",
    "from sklearn.model_selection import train_test_split\n",
    "import seaborn as sns\n",
    "import time\n",
    "from sklearn.preprocessing import PolynomialFeatures\n",
    "###################################################"
   ]
  },
  {
   "cell_type": "code",
   "execution_count": 2,
   "metadata": {},
   "outputs": [],
   "source": [
    "###################################################\n",
    "## the method loads breast cancer dataset and returns\n",
    "## the dataset and label as X,Y\n",
    "def load_data(): \n",
    "    data_set = datasets.load_breast_cancer()\n",
    "    X = data_set.data\n",
    "    y = data_set.target\n",
    "    return X, y\n",
    "###################################################"
   ]
  },
  {
   "cell_type": "code",
   "execution_count": 3,
   "metadata": {},
   "outputs": [],
   "source": [
    "def scale(X):\n",
    "    return (X - np.mean(X))/np.std(X)"
   ]
  },
  {
   "cell_type": "code",
   "execution_count": 4,
   "metadata": {},
   "outputs": [],
   "source": [
    "###################################################\n",
    "## this method takes train and test data and different \n",
    "## svm models and fit the train data into svm models and \n",
    "## do bar plot using sns.barplot() of different svm model \n",
    "## accuracy. You need to implement the model fitting and \n",
    "## bar plotting in this method.\n",
    "def svm_models(X_train, X_test, y_train, y_test, models):\n",
    "    accuracy = []\n",
    "    labels = [m.kernel for m in models]\n",
    "\n",
    "    for model in models:\n",
    "        model.fit(scale(X_train), y_train)\n",
    "        accuracy.append(model.score(scale(X_test), y_test))\n",
    "\n",
    "    fig, ax = plt.subplots()\n",
    "    fig.set_size_inches(6, 6)\n",
    "\n",
    "    sns.set(style=\"ticks\")\n",
    "    ax = sns.barplot(x=labels, y=accuracy, palette=\"Blues\", ax=ax)\n",
    "    ax.set(xlabel=\"Kernel Functions\", ylabel=\"Test Accuracy\")\n",
    "\n",
    "    plt.title(\"Test Accuracy for different kernel SVM (Breast Cancer Dataset)\")\n",
    "    plt.show()\n",
    "###################################################"
   ]
  },
  {
   "cell_type": "code",
   "execution_count": 8,
   "metadata": {},
   "outputs": [],
   "source": [
    "###################################################\n",
    "## this method fits the dataset to a svm model with \n",
    "## polynomial kernel with degree varies from 1 to 3 \n",
    "## and plots the execution time wrt. degree of \n",
    "## polynomial, you can calculate the elapsed time \n",
    "## by time.time() method\n",
    "def ploy_kernel_var_deg(X_train, X_test, y_train, y_test):\n",
    "    times = []\n",
    "    labels = [i for i in range(1, 4)]\n",
    "\n",
    "    for i in range(1, 4):\n",
    "        start_time = time.time()\n",
    "\n",
    "        svm_ = svm.SVC(kernel=\"poly\", degree=i, gamma=\"scale\", C=1)\n",
    "\n",
    "        svm_.fit(scale(X_train), y_train)\n",
    "        score = svm_.score(scale(X_test), y_test)\n",
    "\n",
    "        times.append((time.time() - start_time))\n",
    "\n",
    "    fig, ax = plt.subplots()\n",
    "    fig.set_size_inches(6, 6)\n",
    "\n",
    "    sns.set(style=\"ticks\")\n",
    "    ax = sns.lineplot(x=labels, y=times, palette=\"Blues\", ax=ax)\n",
    "    ax.set(xlabel=\"Polynomial Degree\", ylabel=\"Execution Times\")\n",
    "    plt.xticks([0, 1, 2, 3, 4])\n",
    "\n",
    "    plt.title(\"Execution time vs Polynomial Degree relation for SVM (Polynomial Kernel)\")\n",
    "    plt.show()\n",
    "###################################################"
   ]
  },
  {
   "cell_type": "code",
   "execution_count": 9,
   "metadata": {},
   "outputs": [],
   "source": [
    "###################################################\n",
    "## this method implements a custom kernel technique \n",
    "## which is K(X,Y)=k*XY'+theta where k and theta are\n",
    "## constants. Since SVC supports custom kernel function\n",
    "## with only 2 parameters we return the custom kernel \n",
    "## function name from another method which takes k and\n",
    "## theta as input\n",
    "def custom_kernel(k, theta):\n",
    "\n",
    "    def my_kernel(X, Y):\n",
    "        return (k*(np.dot(X, Y.T)) + theta)\n",
    "\n",
    "    return my_kernel\n",
    "####################################################"
   ]
  },
  {
   "cell_type": "code",
   "execution_count": 10,
   "metadata": {},
   "outputs": [],
   "source": [
    "####################################################\n",
    "## this method uses the custom kernel and fit the \n",
    "## training data and reports accuracy on test data\n",
    "def svm_custom_kernel(X_train, X_test, y_train, y_test, model):\n",
    "    model.fit(scale(X_train), y_train)\n",
    "    score = model.score(scale(X_test), y_test)\n",
    "\n",
    "    print(\"Accuracy score for custom kernel: \", score)\n",
    "####################################################"
   ]
  },
  {
   "cell_type": "code",
   "execution_count": 11,
   "metadata": {},
   "outputs": [
    {
     "data": {
      "image/png": "[encoded data removed]",
      "text/plain": [
       "<Figure size 432x432 with 1 Axes>"
      ]
     },
     "metadata": {},
     "output_type": "display_data"
    },
    {
     "data": {
      "image/png": "[encoded data removed]",
      "text/plain": [
       "<Figure size 432x432 with 1 Axes>"
      ]
     },
     "metadata": {},
     "output_type": "display_data"
    },
    {
     "name": "stdout",
     "output_type": "stream",
     "text": [
      "Accuracy score for custom kernel:  0.9590643274853801\n"
     ]
    }
   ],
   "source": [
    "####################################################\n",
    "## main method:\n",
    "X, y = load_data()\n",
    "# Split dataset into training set and test set\n",
    "X_train, X_test, y_train, y_test = train_test_split(X, y, test_size=0.3, random_state=109) # 70% training and 30% test\n",
    "\n",
    "C = 1\n",
    "models = (svm.SVC(kernel='linear', C=C),\n",
    "          svm.SVC(kernel='rbf', gamma='auto', C=C),\n",
    "          svm.SVC(kernel='poly', degree=2, gamma='auto', C=C))\n",
    "\n",
    "svm_models(X_train, X_test, y_train, y_test, models)\n",
    "\n",
    "ploy_kernel_var_deg(X_train, X_test, y_train, y_test)\n",
    "\n",
    "k = 0.1\n",
    "theta = 0.1\n",
    "\n",
    "model = svm.SVC(kernel=custom_kernel(k,theta))\n",
    "svm_custom_kernel(X_train, X_test, y_train, y_test, model)\n",
    "#####################################################"
   ]
  },
  {
   "cell_type": "code",
   "execution_count": null,
   "metadata": {},
   "outputs": [],
   "source": []
  }
 ],
 "metadata": {
  "kernelspec": {
   "display_name": "Python 3",
   "language": "python",
   "name": "python3"
  },
  "language_info": {
   "codemirror_mode": {
    "name": "ipython",
    "version": 3
   },
   "file_extension": ".py",
   "mimetype": "text/x-python",
   "name": "python",
   "nbconvert_exporter": "python",
   "pygments_lexer": "ipython3",
   "version": "3.7.3"
  }
 },
 "nbformat": 4,
 "nbformat_minor": 2
}
